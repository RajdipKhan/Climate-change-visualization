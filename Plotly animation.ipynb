{
 "cells": [
  {
   "cell_type": "code",
   "execution_count": 1,
   "metadata": {},
   "outputs": [],
   "source": [
    "import pandas as pd\n",
    "import plotly"
   ]
  },
  {
   "cell_type": "code",
   "execution_count": 2,
   "metadata": {},
   "outputs": [],
   "source": [
    "#data=pd.read_csv(\"C:\\\\Users\\\\Rajdip\\\\Desktop\\\\netcdf_open_visualize_csv-master\\\\pr_data\\\\data_pr.csv\")\n",
    "\n"
   ]
  },
  {
   "cell_type": "code",
   "execution_count": 3,
   "metadata": {},
   "outputs": [
    {
     "data": {
      "text/html": [
       "<div>\n",
       "<style scoped>\n",
       "    .dataframe tbody tr th:only-of-type {\n",
       "        vertical-align: middle;\n",
       "    }\n",
       "\n",
       "    .dataframe tbody tr th {\n",
       "        vertical-align: top;\n",
       "    }\n",
       "\n",
       "    .dataframe thead th {\n",
       "        text-align: right;\n",
       "    }\n",
       "</style>\n",
       "<table border=\"1\" class=\"dataframe\">\n",
       "  <thead>\n",
       "    <tr style=\"text-align: right;\">\n",
       "      <th></th>\n",
       "      <th>Timee</th>\n",
       "      <th>latitude</th>\n",
       "      <th>longitude</th>\n",
       "      <th>pr</th>\n",
       "    </tr>\n",
       "  </thead>\n",
       "  <tbody>\n",
       "    <tr>\n",
       "      <th>0</th>\n",
       "      <td>1/1/2019</td>\n",
       "      <td>51.246466</td>\n",
       "      <td>-1.283566</td>\n",
       "      <td>7.294310</td>\n",
       "    </tr>\n",
       "    <tr>\n",
       "      <th>1</th>\n",
       "      <td>1/1/2019</td>\n",
       "      <td>51.238049</td>\n",
       "      <td>-0.424099</td>\n",
       "      <td>7.294293</td>\n",
       "    </tr>\n",
       "    <tr>\n",
       "      <th>2</th>\n",
       "      <td>1/1/2019</td>\n",
       "      <td>51.223328</td>\n",
       "      <td>0.434798</td>\n",
       "      <td>5.697094</td>\n",
       "    </tr>\n",
       "    <tr>\n",
       "      <th>3</th>\n",
       "      <td>1/1/2019</td>\n",
       "      <td>51.785972</td>\n",
       "      <td>-1.275051</td>\n",
       "      <td>7.294310</td>\n",
       "    </tr>\n",
       "    <tr>\n",
       "      <th>4</th>\n",
       "      <td>1/1/2019</td>\n",
       "      <td>51.777392</td>\n",
       "      <td>-0.405377</td>\n",
       "      <td>7.294306</td>\n",
       "    </tr>\n",
       "    <tr>\n",
       "      <th>...</th>\n",
       "      <td>...</td>\n",
       "      <td>...</td>\n",
       "      <td>...</td>\n",
       "      <td>...</td>\n",
       "    </tr>\n",
       "    <tr>\n",
       "      <th>163</th>\n",
       "      <td>1/14/2019</td>\n",
       "      <td>52.316681</td>\n",
       "      <td>-0.386061</td>\n",
       "      <td>3.797876</td>\n",
       "    </tr>\n",
       "    <tr>\n",
       "      <th>164</th>\n",
       "      <td>1/14/2019</td>\n",
       "      <td>52.301382</td>\n",
       "      <td>0.493524</td>\n",
       "      <td>3.789858</td>\n",
       "    </tr>\n",
       "    <tr>\n",
       "      <th>165</th>\n",
       "      <td>1/14/2019</td>\n",
       "      <td>52.864833</td>\n",
       "      <td>-1.257199</td>\n",
       "      <td>2.853285</td>\n",
       "    </tr>\n",
       "    <tr>\n",
       "      <th>166</th>\n",
       "      <td>1/14/2019</td>\n",
       "      <td>52.855915</td>\n",
       "      <td>-0.366125</td>\n",
       "      <td>2.897480</td>\n",
       "    </tr>\n",
       "    <tr>\n",
       "      <th>167</th>\n",
       "      <td>1/14/2019</td>\n",
       "      <td>52.840317</td>\n",
       "      <td>0.524302</td>\n",
       "      <td>3.602306</td>\n",
       "    </tr>\n",
       "  </tbody>\n",
       "</table>\n",
       "<p>168 rows × 4 columns</p>\n",
       "</div>"
      ],
      "text/plain": [
       "         Timee   latitude  longitude        pr\n",
       "0     1/1/2019  51.246466  -1.283566  7.294310\n",
       "1     1/1/2019  51.238049  -0.424099  7.294293\n",
       "2     1/1/2019  51.223328   0.434798  5.697094\n",
       "3     1/1/2019  51.785972  -1.275051  7.294310\n",
       "4     1/1/2019  51.777392  -0.405377  7.294306\n",
       "..         ...        ...        ...       ...\n",
       "163  1/14/2019  52.316681  -0.386061  3.797876\n",
       "164  1/14/2019  52.301382   0.493524  3.789858\n",
       "165  1/14/2019  52.864833  -1.257199  2.853285\n",
       "166  1/14/2019  52.855915  -0.366125  2.897480\n",
       "167  1/14/2019  52.840317   0.524302  3.602306\n",
       "\n",
       "[168 rows x 4 columns]"
      ]
     },
     "execution_count": 3,
     "metadata": {},
     "output_type": "execute_result"
    }
   ],
   "source": [
    "data1=pd.read_csv(\"https://raw.githubusercontent.com/RajdipKhan/Climate-change-visulization/master/data_pr.csv\")\n",
    "data1\n",
    "#pr is average precipation rate(mm/day) "
   ]
  },
  {
   "cell_type": "code",
   "execution_count": 7,
   "metadata": {},
   "outputs": [],
   "source": [
    "data=pd.read_csv(\"https://raw.githubusercontent.com/RajdipKhan/Climate-change-visulization/master/data_pr.csv\")\n",
    "data[\"Timee\"] = pd.to_datetime(data['Timee'])#converting obj to datetime\n"
   ]
  },
  {
   "cell_type": "code",
   "execution_count": 8,
   "metadata": {},
   "outputs": [],
   "source": [
    "data2=data[data['Timee']=='2019-01-01']\n"
   ]
  },
  {
   "cell_type": "code",
   "execution_count": 10,
   "metadata": {},
   "outputs": [],
   "source": [
    "#data plot on a single time stamp 2019-01-01\n",
    "fig = px.scatter_mapbox(data2, lat=\"latitude\", lon=\"longitude\", hover_data=[\"pr\"],\n",
    "                        color=data2[\"pr\"],opacity=0.7, size=data2[\"pr\"],zoom=5, height=500)\n",
    "fig.update_layout(mapbox_style=\"open-street-map\")\n",
    "fig.update_layout(margin={\"r\":0,\"t\":0,\"l\":0,\"b\":0})\n",
    "fig.show()\n"
   ]
  },
  {
   "cell_type": "code",
   "execution_count": 6,
   "metadata": {
    "scrolled": false
   },
   "outputs": [],
   "source": [
    "#Data plotting through all time stamp\n",
    "#animation_frame only recognize string value\n",
    "\n",
    "import plotly.express as px\n",
    "\n",
    "fig1 = px.scatter_mapbox(data1, lat=\"latitude\", lon=\"longitude\", hover_data=[\"pr\"],animation_frame=\"Timee\",\n",
    "                        color=data1[\"pr\"],opacity=0.7, size=data1[\"pr\"],zoom=5, height=500)\n",
    "fig1.update_layout(mapbox_style=\"open-street-map\")\n",
    "fig1.update_layout(margin={\"r\":0,\"t\":0,\"l\":0,\"b\":0})\n",
    "import plotly.io as pio\n",
    "pio.renderers.default = \"browser\"  ##offline plot\n",
    "pint(fig1.show())"
   ]
  },
  {
   "cell_type": "code",
   "execution_count": null,
   "metadata": {},
   "outputs": [],
   "source": []
  }
 ],
 "metadata": {
  "kernelspec": {
   "display_name": "Python 3",
   "language": "python",
   "name": "python3"
  },
  "language_info": {
   "codemirror_mode": {
    "name": "ipython",
    "version": 3
   },
   "file_extension": ".py",
   "mimetype": "text/x-python",
   "name": "python",
   "nbconvert_exporter": "python",
   "pygments_lexer": "ipython3",
   "version": "3.6.5"
  }
 },
 "nbformat": 4,
 "nbformat_minor": 2
}
